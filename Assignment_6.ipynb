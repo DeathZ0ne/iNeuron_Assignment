{
 "cells": [
  {
   "cell_type": "markdown",
   "id": "5b600016",
   "metadata": {},
   "source": [
    "#### 1. What are escape characters, and how do you use them?\n",
    "**Ans** Escape characters represents characters in string values that would otherwise be difficult or impossible to type into code. \n",
    "We can use backslash `character` to escape a single character or symbol.\n",
    "e.g., `\\n, \\t `\n",
    "\n",
    "#### 2. What do the escape characters n and t stand for?\n",
    "**Ans** `\\n` is new line\n",
    "`t` is a tab\n",
    "\n",
    "#### 3. What is the way to include backslash characters in a string?\n",
    "**Ans** The `\\\\` character will represent the backslash character in a string.\n",
    "\n",
    "#### 4. The string \"Howl's Moving Castle\" is a correct value. Why isn't the single quote character in the word Howl's not escaped a problem?\n",
    "**Ans** Because `Howl's` wrapped inside double quotes. If it was wrapped in single quotes, then we would have to use the escape character `/'` to show single quote in the final output.\n",
    "\n",
    "#### 5. How do you write a string of newlines if you don't want to use the n character?\n",
    "**Ans** Multiline string`'''Example'''` allows the use of new lines in string without using the `\\n` escape character.\n",
    "\n",
    "#### 6. What are the values of the given expressions?\n",
    "`'Hello, world!'[1]\n",
    "'Hello, world!'[0:5]\n",
    "'Hello, world!'[:5]\n",
    "'Hello, world!'[3:]`    \n",
    "**Ans** 'Hello, world!'[1] --> `e`     \n",
    "'Hello, world!'[0:5] --> `Hello`      \n",
    "'Hello, world!'[:5] --> `Hello`      \n",
    "'Hello, world!'[3:] --> `lo, world!`    \n",
    "\n",
    "#### 7. What are the values of the following expressions?\n",
    "`'Hello'.upper()\n",
    "'Hello'.upper().isupper()\n",
    "'Hello'.upper().lower()`    \n",
    "**Ans** 'Hello'.upper() --> `'HELLO'`      \n",
    "'Hello'.upper().isupper() --> `True`     \n",
    "'Hello'.upper().lower() --> `hello`    \n",
    "\n",
    "#### 8. What are the values of the following expressions?\n",
    "`'Remember, remember, the fifth of July.'.split()\n",
    "'-'.join('There can only one.'.split())`                    \n",
    "**Ans** 1. `['Remember,', 'remember,', 'the', 'fifth', 'of', 'July.']`   \n",
    "2. `'There-can-only-one.'` \n",
    "\n",
    "#### 9. What are the methods for right-justifying, left-justifying, and centering a string?   \n",
    "**Ans** The `rjust()`, `ljust()`, `center()` string methods respectively.\n",
    "\n",
    "#### 10. What is the best way to remove whitespace characters from the start or end?\n",
    "**Ans** The `lstrip()` and `rstrip()` methods remove whitespace characters from the left and right ends of a string respectively."
   ]
  },
  {
   "cell_type": "code",
   "execution_count": null,
   "id": "b1a82014",
   "metadata": {},
   "outputs": [],
   "source": []
  }
 ],
 "metadata": {
  "kernelspec": {
   "display_name": "Python 3 (ipykernel)",
   "language": "python",
   "name": "python3"
  },
  "language_info": {
   "codemirror_mode": {
    "name": "ipython",
    "version": 3
   },
   "file_extension": ".py",
   "mimetype": "text/x-python",
   "name": "python",
   "nbconvert_exporter": "python",
   "pygments_lexer": "ipython3",
   "version": "3.9.7"
  }
 },
 "nbformat": 4,
 "nbformat_minor": 5
}
