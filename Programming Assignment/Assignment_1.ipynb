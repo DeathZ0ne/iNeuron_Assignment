{
 "cells": [
  {
   "cell_type": "code",
   "execution_count": 3,
   "id": "1c23f68d",
   "metadata": {},
   "outputs": [
    {
     "name": "stdout",
     "output_type": "stream",
     "text": [
      "Hello Python\n"
     ]
    }
   ],
   "source": [
    "# 1. Write a Python program to print \"Hello Python\"?\n",
    "print(\"Hello Python\")\n"
   ]
  },
  {
   "cell_type": "code",
   "execution_count": 6,
   "id": "0dc32bb9",
   "metadata": {},
   "outputs": [
    {
     "name": "stdout",
     "output_type": "stream",
     "text": [
      "Enter first number 23\n",
      "Enter second number 53\n",
      "The addition of  23 and 53 = 76\n",
      "The division of  23  and 53 = 0.4339622641509434\n"
     ]
    }
   ],
   "source": [
    "# 2. Write a Python program to do arithmetical operations addition and division.?\n",
    "\n",
    "a = int(input(\"Enter first number \"))\n",
    "b = int(input(\"Enter second number \"))\n",
    "\n",
    "print(\"The addition of \",a,\"and\",b, \"=\", a+b)\n",
    "print(\"The division of \",a,\" and\",b ,\"=\", a/b)"
   ]
  },
  {
   "cell_type": "code",
   "execution_count": 8,
   "id": "29bedc6a",
   "metadata": {},
   "outputs": [
    {
     "name": "stdout",
     "output_type": "stream",
     "text": [
      "Enter the value for base of triangle 23\n",
      "Enter the value for height of triangle 24\n",
      "The Area of Triangle is  276.0\n"
     ]
    }
   ],
   "source": [
    "# 3. Write a Python program to find the area of a triangle?\n",
    "\n",
    "base = int(input(\"Enter the value for base of triangle \"))\n",
    "height = int(input(\"Enter the value for height of triangle \"))\n",
    "\n",
    "Area_of_triangle = (base*height)/2\n",
    "\n",
    "print(\"The Area of Triangle is \",Area_of_triangle)\n",
    "\n"
   ]
  },
  {
   "cell_type": "code",
   "execution_count": 6,
   "id": "9988f62c",
   "metadata": {},
   "outputs": [
    {
     "name": "stdout",
     "output_type": "stream",
     "text": [
      "Enter first variable 34\n",
      "Enter second variable 44\n",
      "Swapped value of first variable  44\n",
      "Swapped value of second variable 34\n"
     ]
    }
   ],
   "source": [
    "# 4. Write a Python program to swap two variables?\n",
    "\n",
    "a = input(\"Enter first variable \")\n",
    "b = input(\"Enter second variable \")\n",
    "\n",
    "c = a\n",
    "a = b\n",
    "b = a\n",
    "\n",
    "print(\"Swapped value of first variable \",b)\n",
    "print(\"Swapped value of second variable\", c)"
   ]
  },
  {
   "cell_type": "code",
   "execution_count": 14,
   "id": "dad07b90",
   "metadata": {},
   "outputs": [
    {
     "name": "stdout",
     "output_type": "stream",
     "text": [
      "87613\n",
      "0.07947844072877375\n"
     ]
    }
   ],
   "source": [
    "# 5. Write a Python program to generate a random number.\n",
    "\n",
    "import random\n",
    "\n",
    "\n",
    "print(random.randint(0, 100000)) # Generates random number between 0 and 100000\n",
    "print(random.random()) # Generates random floating number between 0.0 and 1.0"
   ]
  }
 ],
 "metadata": {
  "kernelspec": {
   "display_name": "Python 3 (ipykernel)",
   "language": "python",
   "name": "python3"
  },
  "language_info": {
   "codemirror_mode": {
    "name": "ipython",
    "version": 3
   },
   "file_extension": ".py",
   "mimetype": "text/x-python",
   "name": "python",
   "nbconvert_exporter": "python",
   "pygments_lexer": "ipython3",
   "version": "3.9.7"
  }
 },
 "nbformat": 4,
 "nbformat_minor": 5
}
