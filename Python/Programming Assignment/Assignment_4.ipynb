{
 "cells": [
  {
   "cell_type": "markdown",
   "id": "34d506fa",
   "metadata": {},
   "source": [
    "#### 1.Write a Python Program to find the factorial of a number ?"
   ]
  },
  {
   "cell_type": "code",
   "execution_count": 4,
   "id": "9b92c48e",
   "metadata": {},
   "outputs": [
    {
     "name": "stdout",
     "output_type": "stream",
     "text": [
      "Enter Number : 3\n",
      "The factorial of 3 is 6\n"
     ]
    }
   ],
   "source": [
    "def factorial(num):\n",
    "    if num < 1:\n",
    "        return 1\n",
    "    else:\n",
    "        return num*factorial(num-1)\n",
    "\n",
    "num = int(input(\"Enter Number : \"))\n",
    "value = factorial(num)\n",
    "print(f'The factorial of {num} is {value}')"
   ]
  },
  {
   "cell_type": "markdown",
   "id": "3720de2f",
   "metadata": {},
   "source": [
    "#### 2.Write a Python Program to display the multiplication table ?"
   ]
  },
  {
   "cell_type": "code",
   "execution_count": 5,
   "id": "b36aadba",
   "metadata": {},
   "outputs": [
    {
     "name": "stdout",
     "output_type": "stream",
     "text": [
      "Enter Number: 4\n",
      "Enter no. of entries: 10\n",
      "4 x 1 = 4\n",
      "4 x 2 = 8\n",
      "4 x 3 = 12\n",
      "4 x 4 = 16\n",
      "4 x 5 = 20\n",
      "4 x 6 = 24\n",
      "4 x 7 = 28\n",
      "4 x 8 = 32\n",
      "4 x 9 = 36\n",
      "4 x 10 = 40\n"
     ]
    }
   ],
   "source": [
    "def gen_table(base, entries):\n",
    "    for x in range(1, entries+1):\n",
    "        print(f'{base} x {x} = {base * x}')\n",
    "        \n",
    "num = int(input(\"Enter Number: \"))\n",
    "values = int(input(\"Enter no. of entries: \"))\n",
    "gen_table(num, values)"
   ]
  },
  {
   "cell_type": "markdown",
   "id": "2b4d831b",
   "metadata": {},
   "source": [
    "#### 3.Write a Python Program to print the fibonacci sequence ?"
   ]
  },
  {
   "cell_type": "code",
   "execution_count": 24,
   "id": "2ae68aff",
   "metadata": {},
   "outputs": [
    {
     "name": "stdout",
     "output_type": "stream",
     "text": [
      "Enter Number: 4\n",
      "The fibonacci sequence for 4 is : [0, 1, 1, 2]\n"
     ]
    }
   ],
   "source": [
    "cache = {0:0, 1:1}\n",
    "\n",
    "def fibonacci(n):\n",
    "    if n in cache:\n",
    "        return cache[n]\n",
    "    \n",
    "    cache[n] = fibonacci(n-1) + fibonacci(n-2)\n",
    "    return cache[n]\n",
    "\n",
    "num = int(input(\"Enter Number: \"))\n",
    "print(f'The fibonacci sequence for {num} is :', [fibonacci(num) for num in range(num)]) "
   ]
  },
  {
   "cell_type": "markdown",
   "id": "366c4207",
   "metadata": {},
   "source": [
    "#### 4.Write a Python Program to check Armstrong number ?"
   ]
  },
  {
   "cell_type": "code",
   "execution_count": 30,
   "id": "817effde",
   "metadata": {},
   "outputs": [
    {
     "name": "stdout",
     "output_type": "stream",
     "text": [
      "Enter a number: 153\n"
     ]
    },
    {
     "data": {
      "text/plain": [
       "'153 is a Armstrong Number'"
      ]
     },
     "execution_count": 30,
     "metadata": {},
     "output_type": "execute_result"
    }
   ],
   "source": [
    "def check_armstrong(in_num):\n",
    "    in_num = input(\"Enter a number: \")\n",
    "    sum = 0\n",
    "    for i in range(len(in_num)):\n",
    "        sum = sum + pow(int(in_num[i]), 3)\n",
    "    \n",
    "    if sum == int(in_num):\n",
    "        return f'{in_num} is a Armstrong Number'\n",
    "    else:\n",
    "        return f'{in_num} is not a Armstrong Number'\n",
    "\n",
    "check_armstrong(153)\n",
    "    \n",
    "    "
   ]
  },
  {
   "cell_type": "markdown",
   "id": "eee26898",
   "metadata": {},
   "source": [
    "#### 5.Write a Python Program to Find Armstrong number in an interval ?"
   ]
  },
  {
   "cell_type": "code",
   "execution_count": 36,
   "id": "9dfc963a",
   "metadata": {},
   "outputs": [
    {
     "name": "stdout",
     "output_type": "stream",
     "text": [
      "Enter Start Interval : 0\n",
      "Enter End Interval: 1000\n",
      "The Armstrong Number between 0 and 1000 is [0, 1, 153, 370, 370, 371, 407]\n"
     ]
    }
   ],
   "source": [
    "def find_armstrong(num, a_list):\n",
    "    sum = 0\n",
    "    for i in range(len(num)):\n",
    "        sum = sum + pow(int(num[i]), 3)\n",
    "        if sum == int(num):\n",
    "            a_list.append(int(num))\n",
    "\n",
    "start_interval = int(input(\"Enter Start Interval : \"))\n",
    "end_interval = int(input(\"Enter End Interval: \"))\n",
    "list_armstrong = []   \n",
    "if end_interval < start_interval:\n",
    "    print(\"Enter valid intervals\")\n",
    "else:\n",
    "    for i in range(start_interval, end_interval+1):\n",
    "        find_armstrong(str(i), list_armstrong)\n",
    "    print(f'The Armstrong Number between {start_interval} and {end_interval} is {list_armstrong}')\n",
    "\n",
    "            "
   ]
  },
  {
   "cell_type": "markdown",
   "id": "2fef68e6",
   "metadata": {},
   "source": [
    "#### 6.Write a Python Program to sum of natural numbers ?"
   ]
  },
  {
   "cell_type": "code",
   "execution_count": 41,
   "id": "4606f799",
   "metadata": {},
   "outputs": [
    {
     "name": "stdout",
     "output_type": "stream",
     "text": [
      "Enter a number : 5\n",
      "Sum of 5 natural numbers is 15\n"
     ]
    }
   ],
   "source": [
    "def sum_of_natural(num):\n",
    "    sum_of = int(num*((num+1)/2))\n",
    "    print(f'Sum of {num} natural numbers is {sum_of}')\n",
    " \n",
    "num = int(input(\"Enter a number : \"))\n",
    "sum_of_natural(num)"
   ]
  }
 ],
 "metadata": {
  "kernelspec": {
   "display_name": "Python 3 (ipykernel)",
   "language": "python",
   "name": "python3"
  },
  "language_info": {
   "codemirror_mode": {
    "name": "ipython",
    "version": 3
   },
   "file_extension": ".py",
   "mimetype": "text/x-python",
   "name": "python",
   "nbconvert_exporter": "python",
   "pygments_lexer": "ipython3",
   "version": "3.9.7"
  }
 },
 "nbformat": 4,
 "nbformat_minor": 5
}
