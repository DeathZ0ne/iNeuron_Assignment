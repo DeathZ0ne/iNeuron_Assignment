{
 "cells": [
  {
   "cell_type": "markdown",
   "id": "0cd83101",
   "metadata": {},
   "source": [
    "#### 1. Write a Python Program to Display Fibonacci Sequence using Recursion ?"
   ]
  },
  {
   "cell_type": "code",
   "execution_count": 5,
   "id": "1ea86e8e",
   "metadata": {},
   "outputs": [
    {
     "data": {
      "text/plain": [
       "[0, 1, 1, 2, 3, 5, 8, 13, 21, 34, 55, 89, 144, 233, 377]"
      ]
     },
     "execution_count": 5,
     "metadata": {},
     "output_type": "execute_result"
    }
   ],
   "source": [
    "cache = {0:0, 1:1}\n",
    "def fib(n):\n",
    "    if n in cache:\n",
    "        return cache[n]\n",
    "    \n",
    "    cache[n] = fib(n-1) + fib(n-2)\n",
    "    return cache[n]\n",
    "\n",
    "[fib(n) for n in range(15)]"
   ]
  },
  {
   "cell_type": "markdown",
   "id": "6b447721",
   "metadata": {},
   "source": [
    "#### 2. Write a Python Program to Find Factorial of a Number using Recursion ?"
   ]
  },
  {
   "cell_type": "code",
   "execution_count": 3,
   "id": "66df7cf3",
   "metadata": {},
   "outputs": [
    {
     "name": "stdout",
     "output_type": "stream",
     "text": [
      "Enter a number: 10\n",
      "The Factorial of 10 is 3628800\n"
     ]
    }
   ],
   "source": [
    "def factorial(num):\n",
    "    if (num < 1):\n",
    "        return 1\n",
    "    else:\n",
    "        return num*factorial(num-1)\n",
    "num = int(input('Enter a number: '))\n",
    "value = factorial(num)\n",
    "print(f'The Factorial of {num} is {value}')"
   ]
  },
  {
   "cell_type": "markdown",
   "id": "d773c7b6",
   "metadata": {},
   "source": [
    "#### 3. Write a Python Program to Calculate your Body Mass Index ?"
   ]
  },
  {
   "cell_type": "code",
   "execution_count": 6,
   "id": "51b0c8d3",
   "metadata": {},
   "outputs": [
    {
     "name": "stdout",
     "output_type": "stream",
     "text": [
      "Enter your weight(kgs): 65\n",
      "Enter your height(mts): 1.7\n",
      "Your're BMI is 22.49134948096886 and status is Healthy \n"
     ]
    }
   ],
   "source": [
    "def cal_bmi():\n",
    "    in_weight = eval(input(\"Enter your weight(kgs): \"))\n",
    "    in_height = eval(input(\"Enter your height(mts): \"))\n",
    "    \n",
    "    bmi = in_weight/pow(in_height, 2)\n",
    "    if bmi < 18.5:\n",
    "        status = \"Underweight\"\n",
    "    elif bmi>= 18.5 and bmi < 24.9:\n",
    "        status = \"Healthy\"\n",
    "    elif (bmi >= 24.9 and calc_bmi < 30):\n",
    "        status = 'Overweight'\n",
    "    elif (bmi >=30):\n",
    "        status = 'Suffering from Obesity'\n",
    "    print(f'Your BMI is {bmi} and status is {status} ')\n",
    "    \n",
    "cal_bmi()"
   ]
  },
  {
   "cell_type": "markdown",
   "id": "01931bed",
   "metadata": {},
   "source": [
    "#### 4. Write a Python Program to Calculate the Natural Logarithm of any Number ?"
   ]
  },
  {
   "cell_type": "code",
   "execution_count": 7,
   "id": "971b2980",
   "metadata": {},
   "outputs": [
    {
     "name": "stdout",
     "output_type": "stream",
     "text": [
      "Enter a Number:10\n",
      "2.302585092994046\n"
     ]
    }
   ],
   "source": [
    "import math\n",
    "def genNatLog():\n",
    "    in_num = eval(input(\"Enter a Number:\"))\n",
    "    print(math.log(in_num))\n",
    "\n",
    "genNatLog()"
   ]
  },
  {
   "cell_type": "markdown",
   "id": "a4cf0691",
   "metadata": {},
   "source": [
    "#### 5. Write a Python Program for Cube sum of first n Natural Numbers ?"
   ]
  },
  {
   "cell_type": "code",
   "execution_count": 8,
   "id": "5bea74f5",
   "metadata": {},
   "outputs": [
    {
     "name": "stdout",
     "output_type": "stream",
     "text": [
      "Enter the no of Natural Numbers: 120\n",
      "The Cube Sum of First 120 Natural Numbers is 52707600.0\n"
     ]
    }
   ],
   "source": [
    "def cubeOfNaturalNumbers():\n",
    "    in_num = int(input(\"Enter the no of Natural Numbers: \"))\n",
    "    result = pow(((in_num * (in_num +1))/2),2)\n",
    "    print(f'The Cube Sum of First {in_num} Natural Numbers is {result}')\n",
    "\n",
    "cubeOfNaturalNumbers()"
   ]
  }
 ],
 "metadata": {
  "kernelspec": {
   "display_name": "Python 3 (ipykernel)",
   "language": "python",
   "name": "python3"
  },
  "language_info": {
   "codemirror_mode": {
    "name": "ipython",
    "version": 3
   },
   "file_extension": ".py",
   "mimetype": "text/x-python",
   "name": "python",
   "nbconvert_exporter": "python",
   "pygments_lexer": "ipython3",
   "version": "3.9.7"
  }
 },
 "nbformat": 4,
 "nbformat_minor": 5
}
