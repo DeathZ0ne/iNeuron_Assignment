{
 "cells": [
  {
   "cell_type": "markdown",
   "id": "61039c2d",
   "metadata": {},
   "source": [
    "#### 1.Write a Python Program to find sum of elements in a list ?"
   ]
  },
  {
   "cell_type": "code",
   "execution_count": 2,
   "id": "d0d637db",
   "metadata": {},
   "outputs": [
    {
     "data": {
      "text/plain": [
       "60"
      ]
     },
     "execution_count": 2,
     "metadata": {},
     "output_type": "execute_result"
    }
   ],
   "source": [
    "def sum_list(in_list):\n",
    "    return sum(in_list)\n",
    "sum_list([13,5,3,34,5])"
   ]
  },
  {
   "cell_type": "markdown",
   "id": "4d58702c",
   "metadata": {},
   "source": [
    "#### 2.Write a Python Program to multiply all numbers in the list ?"
   ]
  },
  {
   "cell_type": "code",
   "execution_count": 4,
   "id": "4df4d2e3",
   "metadata": {},
   "outputs": [
    {
     "data": {
      "text/plain": [
       "24"
      ]
     },
     "execution_count": 4,
     "metadata": {},
     "output_type": "execute_result"
    }
   ],
   "source": [
    "def mul_list(in_list):\n",
    "    mul = 1\n",
    "    for i in in_list:\n",
    "        mul *= i\n",
    "    return mul\n",
    "mul_list([1,2,3,4])      "
   ]
  },
  {
   "cell_type": "markdown",
   "id": "9f2deb58",
   "metadata": {},
   "source": [
    "#### 3.Write a Python Program to find smallest number in the list ?"
   ]
  },
  {
   "cell_type": "code",
   "execution_count": 6,
   "id": "404fd4c2",
   "metadata": {},
   "outputs": [
    {
     "data": {
      "text/plain": [
       "1"
      ]
     },
     "execution_count": 6,
     "metadata": {},
     "output_type": "execute_result"
    }
   ],
   "source": [
    "def smallest(in_list):\n",
    "    in_list.sort()\n",
    "    return in_list[0]\n",
    "\n",
    "smallest([4,5,46,245,262,1])"
   ]
  },
  {
   "cell_type": "markdown",
   "id": "a6499e89",
   "metadata": {},
   "source": [
    "#### 4.Write a Python Program to find largest number in the list ?"
   ]
  },
  {
   "cell_type": "code",
   "execution_count": 7,
   "id": "12e0a6e5",
   "metadata": {},
   "outputs": [
    {
     "data": {
      "text/plain": [
       "262"
      ]
     },
     "execution_count": 7,
     "metadata": {},
     "output_type": "execute_result"
    }
   ],
   "source": [
    "def largest(in_list):\n",
    "    in_list.sort()\n",
    "    return in_list[-1]\n",
    "\n",
    "largest([4,5,46,245,262,1])"
   ]
  },
  {
   "cell_type": "markdown",
   "id": "57554494",
   "metadata": {},
   "source": [
    "#### 5.Write a Python Program to find second largest number in the list ?"
   ]
  },
  {
   "cell_type": "code",
   "execution_count": 8,
   "id": "0c388929",
   "metadata": {},
   "outputs": [
    {
     "data": {
      "text/plain": [
       "626"
      ]
     },
     "execution_count": 8,
     "metadata": {},
     "output_type": "execute_result"
    }
   ],
   "source": [
    "def sec_largest(in_list):\n",
    "    in_list.sort()\n",
    "    return in_list[-2]\n",
    "sec_largest([2,3,25,3452,62,52,626,26])"
   ]
  },
  {
   "cell_type": "markdown",
   "id": "12f9f78d",
   "metadata": {},
   "source": [
    "#### 6.Write a Python Program to find N largest elements in the list ?"
   ]
  },
  {
   "cell_type": "code",
   "execution_count": 14,
   "id": "301049e3",
   "metadata": {},
   "outputs": [
    {
     "data": {
      "text/plain": [
       "[1, 2, 3, 4, 5, 6, 14, 23, 25, 25]"
      ]
     },
     "execution_count": 14,
     "metadata": {},
     "output_type": "execute_result"
    }
   ],
   "source": [
    "def n_largest(in_list, n):\n",
    "    in_list.sort()\n",
    "    return in_list[0:n]\n",
    "\n",
    "n_largest([2,3,4,23,5,1,345,25,6,14,526,25], 10)"
   ]
  },
  {
   "cell_type": "markdown",
   "id": "1f74e62b",
   "metadata": {},
   "source": [
    "#### 7.Write a Python Program to find even numbers in the list ?"
   ]
  },
  {
   "cell_type": "code",
   "execution_count": 15,
   "id": "6044a6e9",
   "metadata": {},
   "outputs": [
    {
     "data": {
      "text/plain": [
       "[2, 4, 56]"
      ]
     },
     "execution_count": 15,
     "metadata": {},
     "output_type": "execute_result"
    }
   ],
   "source": [
    "def even(in_list):\n",
    "    out_list = []\n",
    "    for i in in_list:\n",
    "        if i % 2 == 0:\n",
    "            out_list.append(i)\n",
    "    return out_list\n",
    "\n",
    "even([1,2,3,4,56])"
   ]
  },
  {
   "cell_type": "markdown",
   "id": "b418accf",
   "metadata": {},
   "source": [
    "#### 8.Write a Python Program to find odd numbers in the list ?"
   ]
  },
  {
   "cell_type": "code",
   "execution_count": 16,
   "id": "cadadb07",
   "metadata": {},
   "outputs": [
    {
     "data": {
      "text/plain": [
       "[1, 3]"
      ]
     },
     "execution_count": 16,
     "metadata": {},
     "output_type": "execute_result"
    }
   ],
   "source": [
    "def odd(in_list):\n",
    "    out_list = []\n",
    "    for i in in_list:\n",
    "        if i % 2 != 0:\n",
    "            out_list.append(i)\n",
    "    return out_list\n",
    "\n",
    "odd([1,2,3,4,56])"
   ]
  },
  {
   "cell_type": "markdown",
   "id": "ef996cf4",
   "metadata": {},
   "source": [
    "#### 9.Write a Python Program to remove empty list from list ?"
   ]
  },
  {
   "cell_type": "code",
   "execution_count": 17,
   "id": "962b848a",
   "metadata": {},
   "outputs": [
    {
     "data": {
      "text/plain": [
       "[1, 2, 4, 5, 4, 5, 35, 63]"
      ]
     },
     "execution_count": 17,
     "metadata": {},
     "output_type": "execute_result"
    }
   ],
   "source": [
    "def empty_list(in_list):\n",
    "    if [] in in_list:\n",
    "        in_list.remove([])\n",
    "    return in_list\n",
    "empty_list([1,2,4,5,[],4,5,35,63])\n",
    "    "
   ]
  },
  {
   "cell_type": "markdown",
   "id": "9fd5ad3f",
   "metadata": {},
   "source": [
    "#### 10.Write a Python Program to Cloning or Copying a list ?"
   ]
  },
  {
   "cell_type": "code",
   "execution_count": 18,
   "id": "ddb0e256",
   "metadata": {},
   "outputs": [
    {
     "name": "stdout",
     "output_type": "stream",
     "text": [
      "Enter a list: [1,2,3,4,5,6,7,5]\n",
      "[1, 2, 3, 4, 5, 6, 7, 5] 2029531737024\n",
      "[1, 2, 3, 4, 5, 6, 7, 5] 2029531701504\n"
     ]
    }
   ],
   "source": [
    "import copy\n",
    "\n",
    "def clone_list():\n",
    "    in_list = eval(input(\"Enter a list: \"))\n",
    "    print(in_list, id(in_list))\n",
    "    cloned_list = in_list.copy()\n",
    "    print(cloned_list, id(cloned_list))\n",
    "clone_list()"
   ]
  },
  {
   "cell_type": "markdown",
   "id": "9a560ce5",
   "metadata": {},
   "source": [
    "#### 11.Write a Python Program to count occurences of an element in a list ?"
   ]
  },
  {
   "cell_type": "code",
   "execution_count": 23,
   "id": "3d3f23f9",
   "metadata": {},
   "outputs": [
    {
     "data": {
      "text/plain": [
       "1"
      ]
     },
     "execution_count": 23,
     "metadata": {},
     "output_type": "execute_result"
    }
   ],
   "source": [
    "def count(in_list, ele):\n",
    "    temp_count = 0\n",
    "    for i in in_list:\n",
    "        if ele == i:\n",
    "            temp_count += 1\n",
    "    return temp_count\n",
    "count([1,2,3,2,3,42,4,4,4], 1)       "
   ]
  }
 ],
 "metadata": {
  "kernelspec": {
   "display_name": "Python 3 (ipykernel)",
   "language": "python",
   "name": "python3"
  },
  "language_info": {
   "codemirror_mode": {
    "name": "ipython",
    "version": 3
   },
   "file_extension": ".py",
   "mimetype": "text/x-python",
   "name": "python",
   "nbconvert_exporter": "python",
   "pygments_lexer": "ipython3",
   "version": "3.9.7"
  }
 },
 "nbformat": 4,
 "nbformat_minor": 5
}
