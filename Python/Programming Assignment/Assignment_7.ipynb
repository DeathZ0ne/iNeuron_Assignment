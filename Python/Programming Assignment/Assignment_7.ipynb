{
 "cells": [
  {
   "cell_type": "markdown",
   "id": "3b1455cb",
   "metadata": {},
   "source": [
    "#### 1. Write a Python Program to find sum of Array ?"
   ]
  },
  {
   "cell_type": "code",
   "execution_count": 8,
   "id": "6c47d65a",
   "metadata": {},
   "outputs": [
    {
     "name": "stdout",
     "output_type": "stream",
     "text": [
      "Enter the array: 1,2,3\n"
     ]
    },
    {
     "data": {
      "text/plain": [
       "6"
      ]
     },
     "execution_count": 8,
     "metadata": {},
     "output_type": "execute_result"
    }
   ],
   "source": [
    "def sumOfArr():\n",
    "    in_arr = eval(input(\"Enter the array: \"))\n",
    "    return sum(in_arr)\n",
    "sumOfArr()  "
   ]
  },
  {
   "cell_type": "markdown",
   "id": "92287871",
   "metadata": {},
   "source": [
    "#### 2. Write a Python Program to find Largest element in an Array ?"
   ]
  },
  {
   "cell_type": "code",
   "execution_count": 10,
   "id": "4f61b320",
   "metadata": {},
   "outputs": [
    {
     "name": "stdout",
     "output_type": "stream",
     "text": [
      "Enter the array :1,2,3,4,5,6\n"
     ]
    },
    {
     "data": {
      "text/plain": [
       "6"
      ]
     },
     "execution_count": 10,
     "metadata": {},
     "output_type": "execute_result"
    }
   ],
   "source": [
    "def largest_arr():\n",
    "    in_arr = eval(input(\"Enter the array :\"))\n",
    "    sorted_arr = sorted(in_arr, reverse=True)\n",
    "    return sorted_arr[0]\n",
    "largest_arr()"
   ]
  },
  {
   "cell_type": "markdown",
   "id": "7110f136",
   "metadata": {},
   "source": [
    "#### 3. Write a Python Program for array rotation ?"
   ]
  },
  {
   "cell_type": "code",
   "execution_count": 14,
   "id": "5d035f69",
   "metadata": {},
   "outputs": [
    {
     "name": "stdout",
     "output_type": "stream",
     "text": [
      "Enter array: 1,2,3,4,5\n"
     ]
    },
    {
     "data": {
      "text/plain": [
       "(5, 4, 3, 2, 1)"
      ]
     },
     "execution_count": 14,
     "metadata": {},
     "output_type": "execute_result"
    }
   ],
   "source": [
    "def arr_rotate():\n",
    "    in_arr = eval(input(\"Enter array: \"))\n",
    "    return in_arr[::-1]\n",
    "arr_rotate()"
   ]
  },
  {
   "cell_type": "markdown",
   "id": "dd3dacfd",
   "metadata": {},
   "source": [
    "#### 4. Write a Python Program to Split the array and add the first part to the end ?"
   ]
  },
  {
   "cell_type": "code",
   "execution_count": 19,
   "id": "88ce910c",
   "metadata": {},
   "outputs": [
    {
     "data": {
      "text/plain": [
       "[4, 5, 6, 7, 8, 7, 5, 4, 1, 2, 3]"
      ]
     },
     "execution_count": 19,
     "metadata": {},
     "output_type": "execute_result"
    }
   ],
   "source": [
    "def split_array(in_arr, k):\n",
    "    b = in_arr[:k]\n",
    "    return in_arr[k::] + b[::]\n",
    "split_array([1,2,3,4,5,6,7,8,7,5,4], 3)    \n",
    "    "
   ]
  },
  {
   "cell_type": "markdown",
   "id": "a3699d45",
   "metadata": {},
   "source": [
    "#### 5. Write a Python Program to check if given array is Monotonic ?"
   ]
  },
  {
   "cell_type": "code",
   "execution_count": 28,
   "id": "1167f3b9",
   "metadata": {},
   "outputs": [
    {
     "data": {
      "text/plain": [
       "False"
      ]
     },
     "execution_count": 28,
     "metadata": {},
     "output_type": "execute_result"
    }
   ],
   "source": [
    " def ismonotonic(a):\n",
    "        x, y = [], []\n",
    "        x.extend(a)\n",
    "        y.extend(a)\n",
    "        x.sort()\n",
    "        y.sort(reverse = True)\n",
    "        if (x == a or y == a):\n",
    "            return True\n",
    "        return False\n",
    "ismonotonic([1,2,4,6,1])"
   ]
  }
 ],
 "metadata": {
  "kernelspec": {
   "display_name": "Python 3 (ipykernel)",
   "language": "python",
   "name": "python3"
  },
  "language_info": {
   "codemirror_mode": {
    "name": "ipython",
    "version": 3
   },
   "file_extension": ".py",
   "mimetype": "text/x-python",
   "name": "python",
   "nbconvert_exporter": "python",
   "pygments_lexer": "ipython3",
   "version": "3.9.7"
  }
 },
 "nbformat": 4,
 "nbformat_minor": 5
}
