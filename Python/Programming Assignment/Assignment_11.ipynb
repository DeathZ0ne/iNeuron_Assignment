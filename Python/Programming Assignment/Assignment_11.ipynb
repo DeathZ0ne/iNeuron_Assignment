{
 "cells": [
  {
   "cell_type": "markdown",
   "id": "ae2a74f5",
   "metadata": {},
   "source": [
    "#### 1. Write a Python program to find words which are greater than given length k ?"
   ]
  },
  {
   "cell_type": "code",
   "execution_count": 4,
   "id": "48ca0ed9",
   "metadata": {},
   "outputs": [
    {
     "name": "stdout",
     "output_type": "stream",
     "text": [
      "Enter String: Glad to be a part of this data science program\n",
      "Enter the length: 4\n"
     ]
    },
    {
     "data": {
      "text/plain": [
       "['science', 'program']"
      ]
     },
     "execution_count": 4,
     "metadata": {},
     "output_type": "execute_result"
    }
   ],
   "source": [
    "def greater_k():\n",
    "    in_string = input(\"Enter String: \")\n",
    "    length = int(input(\"Enter the length: \"))\n",
    "    \n",
    "    out_string = []\n",
    "    for string in in_string.split(\" \"):\n",
    "        if len(string) > length:\n",
    "            out_string.append(string)\n",
    "    return out_string\n",
    "\n",
    "greater_k()"
   ]
  },
  {
   "cell_type": "markdown",
   "id": "905e33d6",
   "metadata": {},
   "source": [
    "#### 2. Write a Python program for removing i-th character from a string ?"
   ]
  },
  {
   "cell_type": "code",
   "execution_count": 6,
   "id": "9946fc64",
   "metadata": {},
   "outputs": [
    {
     "data": {
      "text/plain": [
       "'Ineuon Data Science'"
      ]
     },
     "execution_count": 6,
     "metadata": {},
     "output_type": "execute_result"
    }
   ],
   "source": [
    "def remove(string, char):\n",
    "    out_string = ''\n",
    "    temp = ''\n",
    "    for i in range(len(string)):\n",
    "        if i == char:\n",
    "            temp = temp + string[i]\n",
    "        else: \n",
    "            out_string = out_string + string[i]\n",
    "    return out_string\n",
    "\n",
    "remove('Ineuron Data Science', 4)"
   ]
  },
  {
   "cell_type": "markdown",
   "id": "f0fdf01f",
   "metadata": {},
   "source": [
    "#### 3. Write a Python program to split and join a string ?"
   ]
  },
  {
   "cell_type": "code",
   "execution_count": 7,
   "id": "d991e2f2",
   "metadata": {},
   "outputs": [
    {
     "name": "stdout",
     "output_type": "stream",
     "text": [
      "Yo my homies from ineuron team\n",
      "['Yo', 'my', 'homies', 'from', 'ineuron', 'team']\n",
      "Yo my homies from ineuron team\n"
     ]
    }
   ],
   "source": [
    "def split_join(string):\n",
    "    print(string)\n",
    "    print(string.split(' '))\n",
    "    print(' '.join(string.split(' ')))\n",
    "    \n",
    "split_join('Yo my homies from ineuron team')"
   ]
  },
  {
   "cell_type": "markdown",
   "id": "4c9a52f3",
   "metadata": {},
   "source": [
    "#### 4. Write a Python to check if a given string is binary string or not ?"
   ]
  },
  {
   "cell_type": "code",
   "execution_count": 27,
   "id": "34e6d97d",
   "metadata": {},
   "outputs": [
    {
     "name": "stdout",
     "output_type": "stream",
     "text": [
      "10101010 is binary string\n",
      "324345 is not binary string\n"
     ]
    }
   ],
   "source": [
    "def check_binary(string):\n",
    "    temp = 0\n",
    "    for i in string:\n",
    "        if i in ['0', '1']:\n",
    "            temp = 1\n",
    "            continue\n",
    "        else:\n",
    "            temp = 0\n",
    "            break\n",
    "    if temp == 1:\n",
    "        print(f'{string} is binary string')\n",
    "    else:\n",
    "        print(f'{string} is not binary string')\n",
    "    \n",
    "check_binary('10101010')\n",
    "check_binary('324345')\n",
    "    "
   ]
  },
  {
   "cell_type": "markdown",
   "id": "fec3312d",
   "metadata": {},
   "source": [
    "#### 5. Write a Python program to find uncommon words from two Strings ?"
   ]
  },
  {
   "cell_type": "code",
   "execution_count": 35,
   "id": "e654b38d",
   "metadata": {},
   "outputs": [
    {
     "name": "stdout",
     "output_type": "stream",
     "text": [
      "Enter the String 1: Hello there my friends\n",
      "Enter the String 2: Yo Yo my friends\n",
      "{'Hello', 'Yo', 'there'}\n"
     ]
    }
   ],
   "source": [
    "def unCommonWords():\n",
    "    in_string_1 = set(input(\"Enter the String 1: \").split(' '))\n",
    "    in_string_2 = set(input(\"Enter the String 2: \").split(' '))\n",
    "    out_string = (in_string_1.union(in_string_2)).difference(in_string_1.intersection(in_string_2))\n",
    "    print(out_string)\n",
    "\n",
    "unCommonWords()  "
   ]
  },
  {
   "cell_type": "markdown",
   "id": "22bcc6a6",
   "metadata": {},
   "source": [
    "#### 6. Write a Python to find all duplicate characters in string ?"
   ]
  },
  {
   "cell_type": "code",
   "execution_count": 40,
   "id": "eee92e16",
   "metadata": {},
   "outputs": [
    {
     "data": {
      "text/plain": [
       "{';', 'a', 'f', 'g', 'j', 'k', 'l'}"
      ]
     },
     "execution_count": 40,
     "metadata": {},
     "output_type": "execute_result"
    }
   ],
   "source": [
    "def check_duplicates(string):\n",
    "    non_duplicate_list = []\n",
    "    duplicate_list = []\n",
    "    for i in string:\n",
    "        if i not in non_duplicate_list:\n",
    "            non_duplicate_list.append(i)\n",
    "        else:\n",
    "            duplicate_list.append(i)\n",
    "    return set(duplicate_list)\n",
    "\n",
    "check_duplicates('daslkjf;alkgklajfakjfagkha;kgja;ga')"
   ]
  },
  {
   "cell_type": "markdown",
   "id": "0ca3dddf",
   "metadata": {},
   "source": [
    "#### 7. Write a Python Program to check if a string contains any special character?"
   ]
  },
  {
   "cell_type": "code",
   "execution_count": 42,
   "id": "7e1a130d",
   "metadata": {},
   "outputs": [
    {
     "name": "stdout",
     "output_type": "stream",
     "text": [
      "Enter the string: $%#%GS\n",
      "There are 4 Special Characters in $%#%GS which are ['$', '%', '#', '%']\n"
     ]
    }
   ],
   "source": [
    "def checkSpecialChar():\n",
    "    spl_chars = '[@_!#$%^&*()<>?/\\|}{~:]'\n",
    "    in_num = input('Enter the string: ')\n",
    "    count = 0\n",
    "    char_list = []\n",
    "    for ele in in_num:\n",
    "        if ele in spl_chars:\n",
    "            char_list.append(ele)\n",
    "            count = count+1\n",
    "    print(f'There are {count} Special Characters in {in_num} which are {char_list}')\n",
    "\n",
    "checkSpecialChar()"
   ]
  }
 ],
 "metadata": {
  "kernelspec": {
   "display_name": "Python 3 (ipykernel)",
   "language": "python",
   "name": "python3"
  },
  "language_info": {
   "codemirror_mode": {
    "name": "ipython",
    "version": 3
   },
   "file_extension": ".py",
   "mimetype": "text/x-python",
   "name": "python",
   "nbconvert_exporter": "python",
   "pygments_lexer": "ipython3",
   "version": "3.9.7"
  }
 },
 "nbformat": 4,
 "nbformat_minor": 5
}
