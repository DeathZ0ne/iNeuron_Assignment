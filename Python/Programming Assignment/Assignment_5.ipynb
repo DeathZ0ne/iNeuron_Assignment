{
 "cells": [
  {
   "cell_type": "markdown",
   "id": "1f6fa4e8",
   "metadata": {},
   "source": [
    "#### 1. Write a Python Program to find LCM ?"
   ]
  },
  {
   "cell_type": "code",
   "execution_count": 12,
   "id": "dd069732",
   "metadata": {},
   "outputs": [
    {
     "name": "stdout",
     "output_type": "stream",
     "text": [
      "Enter first number : 3\n",
      "Enter second number : 4\n",
      "LCM of 3 and 4 is 12\n"
     ]
    }
   ],
   "source": [
    "def lcm(a, b):\n",
    "    \"\"\"This program will help find the LCM of two numbers\"\"\"\n",
    "    if(a>b):\n",
    "        min1=a\n",
    "    else:\n",
    "        min1=b\n",
    "    while(True):\n",
    "        if(min1%a==0 and min1%b==0):\n",
    "            return min1\n",
    "        min1=min1+1\n",
    "\n",
    "a = int(input(\"Enter first number : \"))\n",
    "b = int(input(\"Enter second number : \"))\n",
    "\n",
    "print(f'LCM of {a} and {b} is {lcm(a,b)}')"
   ]
  },
  {
   "cell_type": "markdown",
   "id": "e9b81262",
   "metadata": {},
   "source": [
    "#### 2. Write a Python Program to find HCF ?"
   ]
  },
  {
   "cell_type": "code",
   "execution_count": 16,
   "id": "bc135bf2",
   "metadata": {},
   "outputs": [
    {
     "name": "stdout",
     "output_type": "stream",
     "text": [
      "Enter first number: 4\n",
      "Enter second number: 5\n",
      "The H.C.F. is 1\n"
     ]
    }
   ],
   "source": [
    "def hcf(x, y):\n",
    "    \"\"\"This program will find the HCF of two numbers\"\"\"\n",
    "    \n",
    "    if x > y:\n",
    "        smaller = y\n",
    "    else:\n",
    "        smaller = x\n",
    "    for i in range(1, smaller+1):\n",
    "        if((x % i == 0) and (y % i == 0)):\n",
    "            hcf = i \n",
    "    return hcf\n",
    "\n",
    "a = int(input(\"Enter first number: \"))\n",
    "b = int(input(\"Enter second number: \"))\n",
    "\n",
    "print(\"The H.C.F. is\", hcf(a, b))"
   ]
  },
  {
   "cell_type": "markdown",
   "id": "da043ab2",
   "metadata": {},
   "source": [
    "#### 3. Write a Python Program to Convert Decimal to Binary, Octal and Hexadecimal ?"
   ]
  },
  {
   "cell_type": "code",
   "execution_count": 22,
   "id": "56d69888",
   "metadata": {},
   "outputs": [
    {
     "name": "stdout",
     "output_type": "stream",
     "text": [
      "Enter a Number: 45\n",
      "Binary Number -> 101101\n",
      "Octal Number -> 55\n",
      "Hexadecimal Number -> 0x2d.replace(\"0x\", \"\")\n"
     ]
    }
   ],
   "source": [
    "def DecimalToOther():\n",
    "    \"\"\"This program converts a decimal to Binary, Octal and Hexadecimal\"\"\"\n",
    "    num = int(input('Enter a Number: '))\n",
    "    print(f'Binary Number -> {bin(num).replace(\"0b\", \"\")}')\n",
    "    print(f'Octal Number -> {oct(num).replace(\"0o\", \"\")}')    \n",
    "    print(f'Hexadecimal Number -> {hex(num)}.replace(\"0x\", \"\")')    \n",
    "\n",
    "DecimalToOther()"
   ]
  },
  {
   "cell_type": "markdown",
   "id": "65c432cb",
   "metadata": {},
   "source": [
    "#### 4. Write a Python Program to Find the ASCII value of  a Character ?"
   ]
  },
  {
   "cell_type": "code",
   "execution_count": 26,
   "id": "262e8be2",
   "metadata": {},
   "outputs": [
    {
     "name": "stdout",
     "output_type": "stream",
     "text": [
      "Enter a character: 8\n",
      "ASCII value of 8 is 56\n"
     ]
    }
   ],
   "source": [
    "def chartoascii():\n",
    "    \"\"\"This program shows the ASCII value of a character\"\"\"\n",
    "    \n",
    "    char = input(\"Enter a character: \")\n",
    "    if len(char) > 1:\n",
    "        print(\"Please enter a single character\")\n",
    "    else:\n",
    "        print(f'ASCII value of {char} is {ord(char)}')\n",
    "\n",
    "chartoascii()"
   ]
  },
  {
   "cell_type": "markdown",
   "id": "fa19f917",
   "metadata": {},
   "source": [
    "#### 5. Write a Python Program to Make a Simple Calculator with 4 Basic Mathematical operations ?"
   ]
  },
  {
   "cell_type": "code",
   "execution_count": 28,
   "id": "efa7b2a2",
   "metadata": {},
   "outputs": [
    {
     "name": "stdout",
     "output_type": "stream",
     "text": [
      "Select a Arithmetic Operation:         \n",
      "1.Addition(+)        \n",
      "2.Division(-)        \n",
      "2.Multiplication(*)        \n",
      "4.Division(/)        \n",
      "3.Stop(0)\n",
      "\n",
      "Enter a arithmetic operation -> +\n",
      "Enter first number: 34\n",
      "Enter second number: 5\n",
      "34+5 = 39\n",
      "\n",
      "Enter a arithmetic operation -> 0\n",
      "Program stopped successfully\n"
     ]
    }
   ],
   "source": [
    "import operator\n",
    "\n",
    "ops = {\"+\" : operator.add, \"-\" : operator.sub, \"*\" : operator.mul, \"/\" : operator.truediv}\n",
    "\n",
    "print('Select a Arithmetic Operation: \\\n",
    "        \\n1.Addition(+)\\\n",
    "        \\n2.Division(-)\\\n",
    "        \\n2.Multiplication(*)\\\n",
    "        \\n4.Division(/)\\\n",
    "        \\n3.Stop(0)\\n')\n",
    "\n",
    "while True:\n",
    "    operator = input(\"Enter a arithmetic operation -> \")\n",
    "    if operator == \"0\":\n",
    "        print(\"Program stopped successfully\")\n",
    "        break\n",
    "    elif operator not in ['+', '-', '*', '/']:\n",
    "        print(\"Please enter a valid operator\")\n",
    "    else:\n",
    "        num1 = int(input(\"Enter first number: \"))\n",
    "        num2 = int(input(\"Enter second number: \"))\n",
    "        print(f'{num1}{operator}{num2} = {ops[operator](num1, num2)}\\n')"
   ]
  }
 ],
 "metadata": {
  "kernelspec": {
   "display_name": "Python 3 (ipykernel)",
   "language": "python",
   "name": "python3"
  },
  "language_info": {
   "codemirror_mode": {
    "name": "ipython",
    "version": 3
   },
   "file_extension": ".py",
   "mimetype": "text/x-python",
   "name": "python",
   "nbconvert_exporter": "python",
   "pygments_lexer": "ipython3",
   "version": "3.9.7"
  }
 },
 "nbformat": 4,
 "nbformat_minor": 5
}
