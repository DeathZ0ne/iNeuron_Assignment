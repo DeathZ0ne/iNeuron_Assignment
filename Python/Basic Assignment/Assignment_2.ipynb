{
 "cells": [
  {
   "cell_type": "markdown",
   "id": "2f1ca534",
   "metadata": {},
   "source": [
    "#### 1.What are the two values of the Boolean data type? How do you write them?\n",
    "**Ans** The two values of Boolean data type is `True` and `False`. \n",
    "To write we use capital T and F and with the rest of the word in the lowercase.\n",
    "e.g. `a = True` and `b = False`\n",
    "\n",
    "#### 2. What are the three different types of Boolean operators?\n",
    "**Ans** Three different types of Boolean operators are `and`, `or` and `not`.\n",
    "\n",
    "#### 3. Make a list of each Boolean operator's truth tables (i.e. every possible combination of Boolean values for the operator and what it evaluate ).\n",
    "**Ans** The truth table for boolean operators are:\n",
    "\n",
    "* **And** Operator\n",
    "    \n",
    " False False -> False   \n",
    " False True  -> False    \n",
    " True  False -> False   \n",
    " True  True  -> True    \n",
    "    \n",
    "* **or** Operator\n",
    "    \n",
    "    False False -> False   \n",
    "    False True  -> True    \n",
    "    True  False -> True    \n",
    "    True  True  -> True       \n",
    "    \n",
    "* **not** Operator\n",
    "    \n",
    "    False -> True        \n",
    "    True -> False    \n",
    "    \n",
    "#### 4. What are the values of the following expressions?\n",
    "`(5 > 4) and (3 == 5)\n",
    "not (5 > 4)\n",
    "(5 > 4) or (3 == 5)\n",
    "not ((5 > 4) or (3 == 5))\n",
    "(True and True) and (True == False)\n",
    "(not False) or (not True)`\n",
    "**Ans**\n",
    "* False\n",
    "* False\n",
    "* True\n",
    "* False\n",
    "* False\n",
    "* True\n",
    "\n",
    "#### 5. What are the six comparison operators?\n",
    "**Ans** Six comparison operators are `<`, `>`, `<=`, `>=`, `==`, `!=`.\n",
    "\n",
    "#### 6. How do you tell the difference between the equal to and assignment operators?Describe a condition and when you would use one.\n",
    "**Ans** For equal to, `==`is used.\n",
    "For assignment, `=` is used.\n",
    "Equal to is used for comparision. Assignment operator is used for assigning values to variables.\n",
    "\n",
    "#### 7. Identify the three blocks in this code:\n",
    "`spam = 0\n",
    "if spam == 10:\n",
    "print('eggs')\n",
    "if spam > 5:\n",
    "print('bacon')\n",
    "else:\n",
    "print('ham')\n",
    "print('spam')\n",
    "print('spam')`      \n",
    "**Ans** In python, code block refers to a collection of code that is in the same block or indent. This is most commonly found in classes, functions, and loops.\n",
    "\n",
    "The three blocks are:\n",
    "1. `if spam == 10:\n",
    "       print('eggs')`\n",
    "2. `if spam > 5:\n",
    "       print('bacon')`\n",
    "3. `else:\n",
    "       print('ham')`    \n",
    "    "
   ]
  },
  {
   "cell_type": "markdown",
   "id": "f30451e7",
   "metadata": {},
   "source": [
    "#### 8. Write code that prints Hello if 1 is stored in spam, prints Howdy if 2 is stored in spam, and prints Greetings! if anything else is stored in spam."
   ]
  },
  {
   "cell_type": "code",
   "execution_count": 1,
   "id": "63156e17",
   "metadata": {},
   "outputs": [
    {
     "name": "stdout",
     "output_type": "stream",
     "text": [
      "21\n",
      "Greetings!!\n"
     ]
    }
   ],
   "source": [
    "spam = int(input())\n",
    "\n",
    "if spam == 1:\n",
    "    print(\"Hello\")\n",
    "elif spam == 2:\n",
    "    print(\"Howdy\")\n",
    "else:\n",
    "    print(\"Greetings!!\")"
   ]
  },
  {
   "cell_type": "markdown",
   "id": "c160788a",
   "metadata": {},
   "source": [
    "#### 9.If your programme is stuck in an endless loop, what keys you’ll press?\n",
    "**Ans** `Ctrl + C`\n",
    "\n",
    "#### 10. How can you tell the difference between break and continue?\n",
    "**Ans** The `break` condition will move the execution outside the loop if the break conditon satisfies whereas `continue` statement will move the execution to the start of the loop.\n",
    "\n",
    "#### 11. In a for loop, what is the difference between range(10), range(0, 10), and range(0, 10, 1)?\n",
    "**Ans** `range(10)`call range from 0 to 9.\n",
    "`range(0,10)` explicitly tells the loop to start at 0.\n",
    "`range(0,10,1)` explicitly tells the loop to increase the variable by 1 on each iteration.    "
   ]
  },
  {
   "cell_type": "markdown",
   "id": "ec262d4f",
   "metadata": {},
   "source": [
    "#### 12. Write a short program that prints the numbers 1 to 10 using a for loop. Then write an equivalent program that prints the numbers 1 to 10 using a while loop."
   ]
  },
  {
   "cell_type": "code",
   "execution_count": 4,
   "id": "b888077d",
   "metadata": {},
   "outputs": [
    {
     "name": "stdout",
     "output_type": "stream",
     "text": [
      "1\n",
      "2\n",
      "3\n",
      "4\n",
      "5\n",
      "6\n",
      "7\n",
      "8\n",
      "9\n",
      "10\n",
      "The End of for loop \n",
      " \n",
      "\n",
      "The start of while loop\n",
      "1\n",
      "2\n",
      "3\n",
      "4\n",
      "5\n",
      "6\n",
      "7\n",
      "8\n",
      "9\n",
      "10\n"
     ]
    }
   ],
   "source": [
    "for i in range(10):\n",
    "    print(i+1)\n",
    "print(\"The End of for loop \\n \\n\")\n",
    "\n",
    "\n",
    "print(\"The start of while loop\")\n",
    "i=1\n",
    "while(i <= 10):\n",
    "    print(i)\n",
    "    i=i+1"
   ]
  },
  {
   "cell_type": "markdown",
   "id": "4f299e0d",
   "metadata": {},
   "source": [
    "#### 13. If you had a function named bacon() inside a module named spam, how would you call it after importing spam?\n",
    "**Ans** `spam.bacon()`"
   ]
  }
 ],
 "metadata": {
  "kernelspec": {
   "display_name": "Python 3 (ipykernel)",
   "language": "python",
   "name": "python3"
  },
  "language_info": {
   "codemirror_mode": {
    "name": "ipython",
    "version": 3
   },
   "file_extension": ".py",
   "mimetype": "text/x-python",
   "name": "python",
   "nbconvert_exporter": "python",
   "pygments_lexer": "ipython3",
   "version": "3.9.7"
  }
 },
 "nbformat": 4,
 "nbformat_minor": 5
}
