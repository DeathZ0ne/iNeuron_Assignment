{
 "cells": [
  {
   "cell_type": "markdown",
   "id": "e2f73233",
   "metadata": {},
   "source": [
    "#### 1. Why are functions advantageous to have in your programs?\n",
    "**Ans** Functions allows readability.\n",
    "Functions allow code to be organized in modular fashion.\n",
    "Functions allow to users to organize code in a systematic manner.\n",
    "Functions brings functionality to the table.\n",
    "Function allows reusing of code.\n",
    "#### 2. When does the code in a function run: when it's specified or when it's called?\n",
    "**Ans** Code in function run when it is called.\n",
    "#### 3. What statement creates a function?\n",
    "**Ans** `def` statement creates a function.\n",
    "Syntax: `def function_name (parameters):`\n",
    "#### 4. What is the difference between a function and a function call?\n",
    "**Ans** Function is piece of code that performs a set of tasks specified in the function definition. Functional call is used to call the function to perform its functionality i.e. to pass control to the function.\n",
    "#### 5. How many global scopes are there in a Python program? How many local scopes?\n",
    "**Ans** There is one global scope, and a local scope is created whenever a function is called.\n",
    "A variable created inside a function belongs to the local scope of that function, and can only be used inside that function whereas a variable created in the main body of the python code is a global variable and belongs to the global scope.\n",
    "#### 6. What happens to variables in a local scope when the function call returns?\n",
    "**Ans** When a function returns, the local scope is destroyed, and all the variables in it are forgotten. A local variable becomes undefined after the function call completes.\n",
    "#### 7. What is the concept of a return value? Is it possible to have a return value in an expression?\n",
    "**Ans** Return statement is a key component of functions. We use return statement to make functions send Python objects back to the caller code.\n",
    "Yes, it is possible to have a return value in an expression.\n",
    "#### 8. If a function does not have a return statement, what is the return value of a call to that function?\n",
    "**Ans** Then the return value is `none`. The function always return None if there is no return statement.\n",
    "#### 9. How do you make a function variable refer to the global variable?\n",
    "**Ans** `global` keyword is used to make function variable refer to the global variable.\n",
    "#### 10. What is the data type of None?\n",
    "**Ans** `NoneType`\n",
    "#### 11. What does the sentence import areallyourpetsnamederic do?\n",
    "**Ans** The sentence imports a module named `areallyourpetsnamederic`.\n",
    "#### 12. If you had a bacon() feature in a spam module, what would you call it after importing spam?\n",
    "**Ans** `spam.bacon()`.\n",
    "#### 13. What can you do to save a programme from crashing if it encounters an error?\n",
    "**Ans** We can use error handling to save a programme from crashing. We can use `try and except` to deal with the crashing.\n",
    "#### 14. What is the purpose of the try clause? What is the purpose of the except clause?\n",
    "**Ans** The purpose of `try`clause is to run code that can result in an error and the purpose of `except` clause is to execute the code in case an error occurs in the `try` block."
   ]
  },
  {
   "cell_type": "code",
   "execution_count": null,
   "id": "3a6b1e80",
   "metadata": {},
   "outputs": [],
   "source": []
  }
 ],
 "metadata": {
  "kernelspec": {
   "display_name": "Python 3 (ipykernel)",
   "language": "python",
   "name": "python3"
  },
  "language_info": {
   "codemirror_mode": {
    "name": "ipython",
    "version": 3
   },
   "file_extension": ".py",
   "mimetype": "text/x-python",
   "name": "python",
   "nbconvert_exporter": "python",
   "pygments_lexer": "ipython3",
   "version": "3.9.7"
  }
 },
 "nbformat": 4,
 "nbformat_minor": 5
}
