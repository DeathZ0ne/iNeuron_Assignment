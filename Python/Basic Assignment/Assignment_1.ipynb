{
 "cells": [
  {
   "cell_type": "markdown",
   "id": "d7799f56",
   "metadata": {},
   "source": [
    "# Assignment 1"
   ]
  },
  {
   "cell_type": "markdown",
   "id": "865bad37",
   "metadata": {},
   "source": [
    "#### 1. In the below elements which of them are values or an expression? eg:- values can be integer or string and expressions will be mathematical operators.\n",
    "**Ans:** `* - / +` are expressions. `'hello' -87.8 6` are values.\n",
    "\n",
    "#### 2. What is the difference between string and variable?\n",
    "**Ans:** String is a sequence of characters. String is a data type that is stored in a variable.\n",
    "Variable is a name given to a memory location where a object is stored.\n",
    "\n",
    "#### 3. Describe three different data types.\n",
    "**Ans:** Three different data types are `int`, `float`, `complex`.\n",
    "\n",
    "#### 4. What is an expression made up of? What do all expressions do?\n",
    "**Ans:** Expression is a combination of one or more constants, variables, functions and operators that the programming language interprets and computes to produce another value.\n",
    "e.g., 2+3-402-234/32\n",
    "\n",
    "#### 5. This assignment statements, like spam = 10. What is the difference between an expression and a statement?\n",
    "**Ans:** In an expression, another value is evaluated.\n",
    "But a statement is used to create a variable or display a value.\n",
    "In the statement `spam=10`, a variable is created."
   ]
  },
  {
   "cell_type": "markdown",
   "id": "b79663b3",
   "metadata": {},
   "source": [
    "#### 6. After running the following code, what does the variable bacon contain?\n",
    "`bacon = 22\n",
    " bacon + 1`\n",
    "\n",
    "**Ans:** The variable `bacon` is set to `22`. The expression `bacon+1` does not reassign the value to the variable `bacon`. Therefore the value will be same i.e. `22`. "
   ]
  },
  {
   "cell_type": "markdown",
   "id": "18cc1ebd",
   "metadata": {},
   "source": [
    "#### 7. What should the values of the following two terms be?\n",
    "`'spam' + 'spamspam'\n",
    "'spam' * 3`\n",
    "**Ans** In the first expression, `String Concatenation` is done. The output will be `spamspamspam`.\n",
    "In the second expression, `String Multiplication` is done. The output will be `spamspamspam`.\n",
    "####  8. Why is eggs a valid variable name while 100 is invalid?\n",
    "**Ans** As per python naming conventions, variable names cannot begin with a number. That's why eggs is a valid variable name while 100 is invalid."
   ]
  },
  {
   "cell_type": "markdown",
   "id": "90a0c3dc",
   "metadata": {},
   "source": [
    "#### 9. What three functions can be used to get the integer, floating-point number, or string version of a value?\n",
    "**Ans** `int()`, `float()`, `str()` functions can be used to get the integer, floating-point, or string version of a value.\n",
    "#### 10. Why does this expression cause an error? How can you fix it?\n",
    "`'I have eaten ' + 99 + ' burritos.'`\n",
    "**Ans** The error is because of `99` present in the expression. `99` is an integer value and in `Concatenation`, all the values should be of same type.\n",
    "\n",
    "To fix this error, `99` will be converted to string by using `str()` function.\n",
    "Therefore, the correct expression is `'I have eaten' + str(99) + 'burritos'`."
   ]
  }
 ],
 "metadata": {
  "kernelspec": {
   "display_name": "Python 3 (ipykernel)",
   "language": "python",
   "name": "python3"
  },
  "language_info": {
   "codemirror_mode": {
    "name": "ipython",
    "version": 3
   },
   "file_extension": ".py",
   "mimetype": "text/x-python",
   "name": "python",
   "nbconvert_exporter": "python",
   "pygments_lexer": "ipython3",
   "version": "3.9.7"
  }
 },
 "nbformat": 4,
 "nbformat_minor": 5
}
