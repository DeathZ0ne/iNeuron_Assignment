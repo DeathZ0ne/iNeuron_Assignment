{
 "cells": [
  {
   "cell_type": "markdown",
   "id": "5c67dacf",
   "metadata": {},
   "source": [
    "#### 1. What exactly is []?\n",
    "**Ans** `[]` denotes empty list.\n",
    "#### 2. In a list of values stored in a variable called spam, how would you assign the value 'hello' as the third value? (Assume [2, 4, 6, 8, 10] are in spam.)\n",
    "**Ans** We can use `spam[2] = \"hello\"` to assign 'hello' as the third value.\n",
    "### Let's pretend the spam includes the list ['a', 'b', 'c', 'd'] for the next three queries.\n",
    "#### 3. What is the value of spam[int(int('3' * 2) / 11)]?\n",
    "**Ans** `'d'`\n",
    "#### 4. What is the value of spam[-1]?\n",
    "**Ans** `d`\n",
    "#### 5. What is the value of spam[:2]?\n",
    "**Ans** `['a', 'b']`\n",
    "### Let's pretend bacon has the list [3.14, 'cat', 11, 'cat,' True] for the next three questions.\n",
    "#### 6. What is the value of bacon.index('cat')?\n",
    "**Ans** `1`\n",
    "#### 7. How does bacon.append(99) change the look of the list value in bacon?\n",
    "**Ans** The list will look like `[3.14, 'cat', 11, 'cat,' True, 99]`.\n",
    "#### 8. How does bacon.remove('cat') change the look of the list in bacon?\n",
    "**Ans** `[3.14, 11, 'cat,' True]`\n",
    "#### 9. What are the list concatenation and list replication operators?\n",
    "**Ans** `+` is the list concatenation operator.\n",
    "`*` is the list replication operator.\n",
    "#### 10. What is difference between the list methods append() and insert()?\n",
    "**Ans** `append()` function adds elements to the end of the list.\n",
    "`insert()` function can adds elements at any index in a list.\n",
    "#### 11. What are the two methods for removing items from a list?\n",
    "**Ans** `del` statement and `remove()` function.\n",
    "#### 12. Describe how list values and string values are identical.\n",
    "**Ans** 1. Can be passed to `len()` function.\n",
    "2. Can be concatenated and replicated.\n",
    "3. Supports indexing and slicing operations.\n",
    "#### 13. What's the difference between tuples and lists?\n",
    "**Ans** 1. In `Tuple` simple brackets are used i.e. `()`, whereas square brackets are used in `lists` i.e. `[]`.\n",
    "2. Tuple is immutable whereas Lists are mutable.\n",
    "3. Tuple only support `index` and `count` function whereas Lists supports many functions like `append`, `extend` etc.\n",
    "#### 14. How do you type a tuple value that only contains the integer 42?\n",
    "**Ans** `tuple = (42,)`. The trailing comma is mandatory.\n",
    "#### 15. How do you get a list value's tuple form? How do you get a tuple value's list form?\n",
    "**Ans** By using `typecasting`.\n",
    "`tuple()` function can be used to convert a list to a tuple.\n",
    "`list()` function can be used to convert a tuple to a list.  \n",
    "#### 16. Variables that \"contain\" list values are not necessarily lists themselves. Instead, what do they contain?\n",
    "**Ans** They contain references to the list values.\n",
    "#### 17. How do you distinguish between copy.copy() and copy.deepcopy()?\n",
    "**Ans** The `copy.copy()` function will do a shallow copy of a list, while the `copy.deepcopy()` function will do a deep copy of a list. That is, only `copy.deepcopy()` will duplicate any lists inside the list."
   ]
  },
  {
   "cell_type": "code",
   "execution_count": null,
   "id": "40c8569e",
   "metadata": {},
   "outputs": [],
   "source": []
  }
 ],
 "metadata": {
  "kernelspec": {
   "display_name": "Python 3 (ipykernel)",
   "language": "python",
   "name": "python3"
  },
  "language_info": {
   "codemirror_mode": {
    "name": "ipython",
    "version": 3
   },
   "file_extension": ".py",
   "mimetype": "text/x-python",
   "name": "python",
   "nbconvert_exporter": "python",
   "pygments_lexer": "ipython3",
   "version": "3.9.7"
  }
 },
 "nbformat": 4,
 "nbformat_minor": 5
}
